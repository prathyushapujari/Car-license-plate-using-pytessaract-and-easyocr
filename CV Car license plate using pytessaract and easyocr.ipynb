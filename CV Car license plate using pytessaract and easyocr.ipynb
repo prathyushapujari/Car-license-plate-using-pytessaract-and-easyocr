{
 "cells": [
  {
   "cell_type": "code",
   "execution_count": 11,
   "id": "d29e0d7b",
   "metadata": {},
   "outputs": [],
   "source": [
    "import cv2\n",
    "import easyocr\n",
    "import pytesseract\n",
    "pytesseract.pytesseract.tesseract_cmd = 'C:\\\\Program Files\\\\Tesseract-OCR\\\\tesseract.exe'"
   ]
  },
  {
   "cell_type": "code",
   "execution_count": 12,
   "id": "9fb45a37",
   "metadata": {},
   "outputs": [],
   "source": [
    "image = cv2.imread(r\"C:\\Users\\prathyusha\\Downloads\\car.jpg\")\n",
    "cv2.imshow('image', image)\n",
    "cv2.waitKey(0)\n",
    "cv2.destroyAllWindows()"
   ]
  },
  {
   "cell_type": "code",
   "execution_count": 13,
   "id": "33d26753",
   "metadata": {},
   "outputs": [
    {
     "name": "stdout",
     "output_type": "stream",
     "text": [
      "453 333 254 61\n"
     ]
    }
   ],
   "source": [
    "#convert to grayscalse\n",
    "gray_image = cv2.cvtColor(image,cv2.COLOR_BGR2GRAY)\n",
    "#Canny Edge Detection\n",
    "canny_edge = cv2.Canny(gray_image, 170,200)\n",
    "#canny_edge = canny_edge.copy()\n",
    "# cv2.imshow('gray', gray_image)\n",
    "# cv2.imshow('canny', canny_edge)\n",
    "# cv2.waitKey(0)\n",
    "# cv2.destroyAllWindows()\n",
    "\n",
    "contours, new = cv2.findContours(canny_edge.copy(), cv2.RETR_LIST, cv2.CHAIN_APPROX_SIMPLE)\n",
    "contours = sorted(contours, key = cv2.contourArea, reverse = True)[:30]\n",
    " #Initialize coordinates\n",
    "contour_with_licence_plate = None\n",
    "license_plate =None\n",
    "x= None\n",
    "y= None\n",
    "h= None\n",
    "w= None\n",
    "\n",
    "#find the contour with 4 potential corners and create ROI around it\n",
    "for contour in contours:\n",
    "    #find th perimeter of contour and it should be a closed contour\n",
    "    perimeter = cv2.arcLength(contour, True)\n",
    "    approx = cv2.approxPolyDP(contour, 0.01*perimeter, True)\n",
    "    if len(approx) ==4: #see whether it is rect\n",
    "        contour_with_license_plate = approx\n",
    "        x,y,w,h = cv2.boundingRect(contour)\n",
    "        license_plate = gray_image[y:y+h, x:x+w]\n",
    "        break\n",
    "print(x,y,w,h)"
   ]
  },
  {
   "cell_type": "code",
   "execution_count": 14,
   "id": "6842d088",
   "metadata": {},
   "outputs": [],
   "source": [
    "cv2.imshow('License Plate', license_plate)\n",
    "cv2.waitKey(0)\n",
    "cv2.destroyAllWindows()"
   ]
  },
  {
   "cell_type": "code",
   "execution_count": 15,
   "id": "5bb18415",
   "metadata": {},
   "outputs": [],
   "source": [
    "#Removing Noise from the detected image, before sending to Tesseract\n",
    "#licenseplate \n",
    "license_plate= cv2.bilateralFilter(license_plate, 30, 40, 40)\n",
    "cv2.imshow(\"bil\", license_plate)\n",
    "(thresh, license_plate)= cv2.threshold(license_plate, 150, 200,cv2.THRESH_BINARY)\n",
    "cv2.imshow(\"thresh\", license_plate)\n",
    "cv2.waitKey(0)\n",
    "cv2.destroyAllWindows()"
   ]
  },
  {
   "cell_type": "code",
   "execution_count": 16,
   "id": "420e6e87",
   "metadata": {},
   "outputs": [
    {
     "name": "stdout",
     "output_type": "stream",
     "text": [
      "text: \n"
     ]
    }
   ],
   "source": [
    "#Text Recognition\n",
    "text = pytesseract.image_to_string(license_plate)\n",
    "print (f\"text: {text}\")\n",
    "#Draw License Plate and write the text\n",
    "image = cv2.rectangle(image,(x,y),(x+w,y+h), (0,0,255), 3)\n",
    "image = cv2.putText(image,text, (x-100, y-50), cv2.FONT_HERSHEY_SIMPLEX, 3, (0,255,0),3, cv2.LINE_AA)\n",
    "\n",
    "\n",
    "#print(\"License Plate:\", text)\n",
    "\n",
    "#cv2.imshow(\"License Plate Detection\", image)\n",
    "#cv2.waitKey(0)\n",
    "#cv2.destroyAllWindows()"
   ]
  },
  {
   "cell_type": "code",
   "execution_count": 17,
   "id": "68d4a44e",
   "metadata": {},
   "outputs": [],
   "source": [
    "#cv2.imshow('License Plate', license_plate)\n",
    "#cv2.waitKey(0)\n",
    "#cv2.destroyAllWindows()"
   ]
  },
  {
   "cell_type": "code",
   "execution_count": 18,
   "id": "c5bbcacf",
   "metadata": {},
   "outputs": [
    {
     "name": "stdout",
     "output_type": "stream",
     "text": [
      "\n",
      "License Plate: \n"
     ]
    }
   ],
   "source": [
    "#Text Recognition\n",
    "text = pytesseract.image_to_string(license_plate)\n",
    "print (text)\n",
    "#Draw License Plate and write the text\n",
    "image = cv2.rectangle(image,(x,y),(x+w,y+h), (0,0,255), 3)\n",
    "image = cv2.putText(image,text, (x-100, y-50), cv2.FONT_HERSHEY_SIMPLEX, 3, (0,255,0),3, cv2.LINE_AA)\n",
    "\n",
    "\n",
    "print(\"License Plate:\", text)\n",
    "\n",
    "cv2.imshow(\"License Plate Detection\", image)\n",
    "cv2.waitKey(0)\n",
    "cv2.destroyAllWindows()"
   ]
  },
  {
   "cell_type": "code",
   "execution_count": 19,
   "id": "878d1f36",
   "metadata": {},
   "outputs": [],
   "source": [
    "#checking with another image\n",
    "#read the image file\n",
    "image = cv2.imread(r\"C:\\Users\\prathyusha\\Downloads\\car.jpg\")\n",
    "cv2.imshow('image', image)\n",
    "cv2.waitKey(0)\n",
    "cv2.destroyAllWindows()"
   ]
  },
  {
   "cell_type": "code",
   "execution_count": 20,
   "id": "07323807",
   "metadata": {},
   "outputs": [
    {
     "name": "stdout",
     "output_type": "stream",
     "text": [
      "[[[455 336]]\n",
      "\n",
      " [[460 393]]\n",
      "\n",
      " [[706 385]]\n",
      "\n",
      " [[702 334]]]\n",
      "453 333 254 61\n"
     ]
    }
   ],
   "source": [
    "#convert to grayscalse\n",
    "gray_image = cv2.cvtColor(image,cv2.COLOR_BGR2GRAY)\n",
    "#Canny Edge Detection\n",
    "canny_edge = cv2.Canny(gray_image, 170,200)\n",
    "#canny_edge = canny_edge.copy()\n",
    "# cv2.imshow('gray', gray_image)\n",
    "# cv2.imshow('canny', canny_edge)\n",
    "# cv2.waitKey(0)\n",
    "# cv2.destroyAllWindows()\n",
    "\n",
    "contours, new = cv2.findContours(canny_edge.copy(), cv2.RETR_LIST, cv2.CHAIN_APPROX_SIMPLE)\n",
    "contours = sorted(contours, key = cv2.contourArea, reverse = True)[:30]\n",
    "#print(contours)\n",
    " #Initialize coordinates\n",
    "contour_with_licence_plate = None\n",
    "license_plate =None\n",
    "x= None\n",
    "y= None\n",
    "h= None\n",
    "w= None\n",
    "\n",
    "#find the contour with 4 potential corners and create ROI around it\n",
    "for contour in contours:\n",
    "    #find th perimeter of contour and it should be a closed contour\n",
    "    perimeter = cv2.arcLength(contour, True)\n",
    "    approx = cv2.approxPolyDP(contour, 0.01*perimeter, True)\n",
    "    #print(approx)\n",
    "    if len(approx) ==4: #see whether it is rect\n",
    "        contour_with_license_plate = approx\n",
    "        print(contour_with_license_plate)\n",
    "        x,y,w,h = cv2.boundingRect(contour)\n",
    "        license_plate = gray_image[y:y+h, x:x+w]\n",
    "        break\n",
    "print(x,y,w,h)"
   ]
  },
  {
   "cell_type": "code",
   "execution_count": null,
   "id": "c9612f43",
   "metadata": {},
   "outputs": [],
   "source": []
  }
 ],
 "metadata": {
  "kernelspec": {
   "display_name": "Python 3",
   "language": "python",
   "name": "python3"
  },
  "language_info": {
   "codemirror_mode": {
    "name": "ipython",
    "version": 3
   },
   "file_extension": ".py",
   "mimetype": "text/x-python",
   "name": "python",
   "nbconvert_exporter": "python",
   "pygments_lexer": "ipython3",
   "version": "3.8.8"
  }
 },
 "nbformat": 4,
 "nbformat_minor": 5
}
